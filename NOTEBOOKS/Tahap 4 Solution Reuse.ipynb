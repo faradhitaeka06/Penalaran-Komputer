{
  "nbformat": 4,
  "nbformat_minor": 0,
  "metadata": {
    "colab": {
      "provenance": [],
      "toc_visible": true
    },
    "kernelspec": {
      "name": "python3",
      "display_name": "Python 3"
    },
    "language_info": {
      "name": "python"
    }
  },
  "cells": [
    {
      "cell_type": "markdown",
      "source": [
        "#Tahap 4 – Solution Reuse"
      ],
      "metadata": {
        "id": "a5aWAiutwOhw"
      }
    },
    {
      "cell_type": "markdown",
      "source": [
        "##Ekstrak Solusi"
      ],
      "metadata": {
        "id": "wVE6JveowPTj"
      }
    },
    {
      "cell_type": "code",
      "source": [
        "case_solutions = dict(zip(df['case_id'].astype(str), df['ringkasan_fakta']))"
      ],
      "metadata": {
        "id": "QvRNeIxXspmS"
      },
      "execution_count": null,
      "outputs": []
    },
    {
      "cell_type": "markdown",
      "source": [
        "##Algoritma Prediksi"
      ],
      "metadata": {
        "id": "qhxONFCXwXLf"
      }
    },
    {
      "cell_type": "markdown",
      "source": [
        "###BERT (Majority Vote)"
      ],
      "metadata": {
        "id": "jj4evvz_wX3G"
      }
    },
    {
      "cell_type": "code",
      "source": [
        "def predict_outcome_bert(query: str, k: int = 5) -> str:\n",
        "    top_k = retrieve_bert(query, k)\n",
        "    solutions = [case_solutions[str(c['case_id'])] for c in top_k if str(c['case_id']) in case_solutions]\n",
        "    return max(set(solutions), key=solutions.count) if solutions else \"Solusi tidak ditemukan\""
      ],
      "metadata": {
        "id": "XIZArM2Ess58"
      },
      "execution_count": null,
      "outputs": []
    },
    {
      "cell_type": "markdown",
      "source": [
        "###SVM (1 Prediksi)"
      ],
      "metadata": {
        "id": "QOsT4zcywfg9"
      }
    },
    {
      "cell_type": "code",
      "source": [
        "def predict_outcome_svm(query: str) -> str:\n",
        "    pred_id = retrieve_svm(query)\n",
        "    return case_solutions.get(pred_id, \"Solusi tidak ditemukan\")"
      ],
      "metadata": {
        "id": "kcKiLyOfsuq4"
      },
      "execution_count": null,
      "outputs": []
    },
    {
      "cell_type": "markdown",
      "source": [
        "##Output Prediksi"
      ],
      "metadata": {
        "id": "LABIhkrgwoaT"
      }
    },
    {
      "cell_type": "code",
      "source": [
        "predictions_bert = []\n",
        "for q in test_queries:\n",
        "    pred_sol = predict_outcome_bert(q['query_text'])\n",
        "    top_k_ids = [c['case_id'] for c in retrieve_bert(q['query_text'], k=5)]\n",
        "    predictions_bert.append({\n",
        "        \"query_id\": q['query_id'],\n",
        "        \"predicted_solution\": pred_sol,\n",
        "        \"top_5_case_ids\": top_k_ids\n",
        "    })\n",
        "\n",
        "pd.DataFrame(predictions_bert).to_csv('/content/drive/MyDrive/Penalaran Komputer/data/results/predictions_bert.csv', index=False)"
      ],
      "metadata": {
        "id": "8LeMOpDPswrP"
      },
      "execution_count": null,
      "outputs": []
    },
    {
      "cell_type": "markdown",
      "source": [
        "##Demo Manual"
      ],
      "metadata": {
        "id": "AK8Lt0lHwtLw"
      }
    },
    {
      "cell_type": "code",
      "source": [
        "for q in test_queries:\n",
        "    expected = case_solutions.get(q['ground_truth'], '-')\n",
        "    predicted = predict_outcome_bert(q['query_text'])\n",
        "    print(f\"Query-{q['query_id']}\")\n",
        "    print(f\"Query: {q['query_text']}\")\n",
        "    print(f\"Expected: {expected[:150]}\")\n",
        "    print(f\"Predicted: {predicted[:150]}\")\n",
        "    print('-'*80)\n"
      ],
      "metadata": {
        "colab": {
          "base_uri": "https://localhost:8080/"
        },
        "id": "zf0TvypDszBQ",
        "outputId": "59bfed8a-2e56-4b16-f197-4a5cdcbfab3d"
      },
      "execution_count": null,
      "outputs": [
        {
          "output_type": "stream",
          "name": "stdout",
          "text": [
            "Query-1\n",
            "Query: putusan dari mahkamah agung republik indonesia yang akan terus disempurnakan ke depannya\n",
            "Expected: direktori putusan mahkamah agung republik indonesia mahkamah agung republik indonesia mahkamah agung republik indonesia mahkamah agung republik indone\n",
            "Predicted: direktori putusan mahkamah agung republik indonesia mahkamah agung republik indonesia mahkamah agung republik indonesia mahkamah agung republik indone\n",
            "--------------------------------------------------------------------------------\n",
            "Query-2\n",
            "Query: para penggugat telah mengajukan gugatannya tertanggal 26 agustus 2020 dan terdaftar di kepaniteraan pengadilan tata usaha negara bandung \n",
            "Expected: para penggugat telah mengajukan gugatannya tertanggal 26 agustus 2020 dan terdaftar di kepaniteraan pengadilan tata usaha negara bandung pada tanggal \n",
            "Predicted: para penggugat dengan surat gugatannya tertanggal2 desember 2020 telah mengajukan gugatan terhadap tergugat yang didaftarkandi kepaniteraan pengadilan\n",
            "--------------------------------------------------------------------------------\n",
            "Query-3\n",
            "Query: penggugat dengan surat gugatannya tertanggal 11 november 2020telah mengajukan gugatan yang didaftarkan di kepaniteraan pengadilan tata usahanegara bandung \n",
            "Expected: penggugat dengan surat gugatannya tertanggal 11 november 2020telah mengajukan gugatan yang didaftarkan di kepaniteraan pengadilan tata usahanegara ban\n",
            "Predicted: penggugat telah mengajukan gugatannya tertanggal 13 oktober2020 yang diterima dan didaftar di kepaniteraan perkara pengadilan tata usahanegara bandung\n",
            "--------------------------------------------------------------------------------\n",
            "Query-4\n",
            "Query: para penggugat telah mengajukan gugatantertanggal 8 desember 2020 yang terdaftar di kepaniteraan pengadilantata usaha negara bandung\n",
            "Expected: para penggugat telah mengajukan gugatantertanggal 8 desember 2020 yang terdaftar di kepaniteraan pengadilantata usaha negara bandung dan dicatat dalam\n",
            "Predicted: para penggugat dengan surat gugatannya tertanggal2 desember 2020 telah mengajukan gugatan terhadap tergugat yang didaftarkandi kepaniteraan pengadilan\n",
            "--------------------------------------------------------------------------------\n",
            "Query-5\n",
            "Query: penggugat telah mengajukan gugatannya tertanggal 27 juli 2020 dan telah didaftarkan di kepaniteraan pengadilan tata usaha negara bandung\n",
            "Expected: penggugat telah mengajukan gugatannya tertanggal 27 juli 2020 dan telah didaftarkan di kepaniteraan pengadilan tata usaha negara bandung pada tanggal \n",
            "Predicted: penggugat telah mengajukan gugatannya tertanggal 27 juli 2020 dan telah didaftarkan di kepaniteraan pengadilan tata usaha negara bandung pada tanggal \n",
            "--------------------------------------------------------------------------------\n",
            "Query-6\n",
            "Query: objek gugatan dalam perkara a quo telah memenuhi syarat objekgugatan sebagaimana ketentuan pasal 1 angka (9) undang-undang nomor 51tahun 2009 \n",
            "Expected: objek gugatan dalam perkara a quo telah memenuhi syarat objekgugatan sebagaimana ketentuan pasal 1 angka (9) undang-undang nomor 51tahun 2009 tentang \n",
            "Predicted: setelah membaca dan menela’ah objek sengketa secara seksama, majelis hakim berpendapat sebagai berikut: - bahwa objek sengketa a quo adalah penetapan \n",
            "--------------------------------------------------------------------------------\n",
            "Query-7\n",
            "Query: penggugat telah mengajukan surat gugatan tertanggal 27agustus 2018 yang didaftarkan di kepaniteraan pengadilan tata usahanegara bandung tanggal14 september 2020\n",
            "Expected: penggugat telah mengajukan surat gugatan tertanggal 27agustus 2018 yang didaftarkan di kepaniteraan pengadilan tata usahanegara bandung tanggal14 sept\n",
            "Predicted: para penggugat telah mengajukan gugatannyatertanggal 25 agustus 2020 yang didaftarkan di kepaniteraan pengadilan tatausaha negara bandung pada tanggal\n",
            "--------------------------------------------------------------------------------\n",
            "Query-8\n",
            "Query: penggugat melalui kuasa hukumnya mengajukan gugatan, yang didaftarkan secara elektronik  di kepani-teraan pengadilan tata usaha negara bandung\n",
            "Expected: penggugat melalui kuasa hukumnya mengajukan gugatan, tanggal 27 agustus 2020, didaftarkan secara elektronik (e-court) di kepani-teraan pengadilan tata\n",
            "Predicted: penggugat melalui kuasa hukumnya mengajukan gugatan, tanggal 27 agustus 2020, didaftarkan secara elektronik (e-court) di kepani-teraan pengadilan tata\n",
            "--------------------------------------------------------------------------------\n",
            "Query-9\n",
            "Query: penggugat melalui kuasa hukumnya mengajukan gugatan, tanggal 27 agustus 2020, didaftarkan secara elektronik  di kepani-teraan pengadilan tata usaha negara bandung \n",
            "Expected: penggugat melalui kuasa hukumnya mengajukan gugatan, tanggal 27 agustus 2020, didaftarkan secara elektronik (e-court) di kepani-teraan pengadilan tata\n",
            "Predicted: penggugat melalui kuasa hukumnya mengajukan gugatan, tanggal 27 agustus 2020, didaftarkan secara elektronik (e-court) di kepani-teraan pengadilan tata\n",
            "--------------------------------------------------------------------------------\n",
            "Query-10\n",
            "Query: terhadap gugatan para penggugat tersebut, tergugattelah mengajukan jawabannya tertanggal 17 november 2020, padapersidangan tanggal 19 november 2020\n",
            "Expected: terhadap gugatan para penggugat tersebut, tergugattelah mengajukan jawabannya tertanggal 17 november 2020, padapersidangan tanggal 19 november 2020, t\n",
            "Predicted: penggugat dengan gugatannya tertanggal 21 desember 2020 yang telah didaftarkan di kepaniteraan pengadilan tata usaha negara bandung pada tanggal 22 de\n",
            "--------------------------------------------------------------------------------\n"
          ]
        }
      ]
    }
  ]
}