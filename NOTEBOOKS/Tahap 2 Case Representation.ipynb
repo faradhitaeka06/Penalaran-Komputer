{
  "nbformat": 4,
  "nbformat_minor": 0,
  "metadata": {
    "colab": {
      "provenance": [],
      "toc_visible": true
    },
    "kernelspec": {
      "name": "python3",
      "display_name": "Python 3"
    },
    "language_info": {
      "name": "python"
    }
  },
  "cells": [
    {
      "cell_type": "markdown",
      "source": [
        "# Tahap 2 – Case Representation"
      ],
      "metadata": {
        "id": "yBGRJEQcCDcq"
      }
    },
    {
      "cell_type": "markdown",
      "source": [
        "### Ekstraksi Metadata"
      ],
      "metadata": {
        "id": "T-tVzqXvCEpI"
      }
    },
    {
      "cell_type": "code",
      "source": [
        "import os\n",
        "import re\n",
        "import pandas as pd\n",
        "\n",
        "# Folder input dan output\n",
        "input_folder = '/content/drive/MyDrive/Penalaran Komputer/data_clean/raw'\n",
        "output_csv = '/content/drive/MyDrive/Penalaran Komputer/data/processed/metadata_only.csv'\n",
        "os.makedirs(os.path.dirname(output_csv), exist_ok=True)\n",
        "\n",
        "# Fungsi ekstraksi metadata\n",
        "def extract_metadata(text):\n",
        "    # Nomor Perkara\n",
        "    match_no = re.search(r'(nomor|no)[\\s:]*([^\\n;,]*)', text, re.IGNORECASE)\n",
        "    no_perkara = match_no.group(2).strip() if match_no else ''\n",
        "\n",
        "    # Tanggal (format: 12 Januari 2023)\n",
        "    match_tgl = re.search(r'(\\d{1,2} [a-zA-Z]+ \\d{4})', text)\n",
        "    tanggal = match_tgl.group(1) if match_tgl else ''\n",
        "\n",
        "    # Jenis Perkara (cari kata kunci umum)\n",
        "    if 'pidana' in text:\n",
        "        jenis = 'Pidana'\n",
        "    elif 'perdata' in text:\n",
        "        jenis = 'Perdata'\n",
        "    else:\n",
        "        jenis = ''\n",
        "\n",
        "    # Pasal-pasal yang disebut\n",
        "    pasal = re.findall(r'pasal[\\s:]+(\\d+[a-z]*)', text, re.IGNORECASE)\n",
        "    pasal = ', '.join(sorted(set(pasal))) if pasal else ''\n",
        "\n",
        "    # Pihak: Penggugat vs Tergugat atau terdakwa\n",
        "    pihak = ''\n",
        "    match_pihak = re.search(r'antara\\s+(.*?)\\s+melawan\\s+(.*?)[\\.,\\n]', text, re.IGNORECASE)\n",
        "    if match_pihak:\n",
        "        pihak = f\"{match_pihak.group(1).strip()} vs. {match_pihak.group(2).strip()}\"\n",
        "\n",
        "    return no_perkara, tanggal, jenis, pasal, pihak\n",
        "\n",
        "# Proses semua file\n",
        "rows = []\n",
        "\n",
        "for i, filename in enumerate(sorted(os.listdir(input_folder))):\n",
        "    if filename.endswith('.txt'):\n",
        "        file_path = os.path.join(input_folder, filename)\n",
        "        with open(file_path, 'r', encoding='utf-8') as f:\n",
        "            text = f.read()\n",
        "\n",
        "        no_perkara, tanggal, jenis, pasal, pihak = extract_metadata(text)\n",
        "\n",
        "        rows.append({\n",
        "            'case_id': i + 1,\n",
        "            'no_perkara': no_perkara,\n",
        "            'tanggal': tanggal,\n",
        "            'jenis_perkara': jenis,\n",
        "            'pasal': pasal,\n",
        "            'pihak': pihak,\n",
        "            'text_full': text\n",
        "        })\n",
        "\n",
        "# Simpan ke CSV\n",
        "df = pd.DataFrame(rows)\n",
        "df.to_csv(output_csv, index=False)\n",
        "print(f'✅ Metadata disimpan ke: {output_csv}')"
      ],
      "metadata": {
        "colab": {
          "base_uri": "https://localhost:8080/"
        },
        "id": "P2hpTgLuCFAr",
        "outputId": "16ba23e5-e607-4589-eb99-fb5380e97ce0"
      },
      "execution_count": null,
      "outputs": [
        {
          "output_type": "stream",
          "name": "stdout",
          "text": [
            "✅ Metadata disimpan ke: /content/drive/MyDrive/Penalaran Komputer/data/processed/metadata_only.csv\n"
          ]
        }
      ]
    },
    {
      "cell_type": "markdown",
      "source": [
        "###Ekstraksi Konten Kunci"
      ],
      "metadata": {
        "id": "FGYQX4ZKCY7j"
      }
    },
    {
      "cell_type": "code",
      "source": [
        "import pandas as pd\n",
        "import re\n",
        "import os\n",
        "\n",
        "# Path input/output\n",
        "input_csv = '/content/drive/MyDrive/Penalaran Komputer/data/processed/metadata_only.csv'\n",
        "output_csv = '/content/drive/MyDrive/Penalaran Komputer/data/processed/cases.csv'\n",
        "os.makedirs(os.path.dirname(output_csv), exist_ok=True)\n",
        "\n",
        "# Baca data\n",
        "df = pd.read_csv(input_csv)\n",
        "\n",
        "# Fungsi untuk ringkasan fakta\n",
        "def extract_ringkasan_fakta(text):\n",
        "    match = re.search(r'menimbang\\s+bahwa\\s+(.{50,1000}?)\\.', text, re.IGNORECASE)\n",
        "    if match:\n",
        "        return match.group(1).strip()\n",
        "\n",
        "    match = re.search(r'bahwa\\s+(.{50,1000}?)\\.', text, re.IGNORECASE)\n",
        "    if match:\n",
        "        return match.group(1).strip()\n",
        "\n",
        "    return ''\n",
        "\n",
        "# Fungsi untuk argumen hukum utama\n",
        "def extract_argumen_hukum(text):\n",
        "    match = re.search(r'memutuskan\\s+(.{50,1000}?)\\.', text, re.IGNORECASE)\n",
        "    if match:\n",
        "        return match.group(1).strip()\n",
        "\n",
        "    match = re.search(r'dasarkan\\s+pasal\\s+(.{20,500}?)\\.', text, re.IGNORECASE)\n",
        "    if match:\n",
        "        return match.group(1).strip()\n",
        "\n",
        "    match = re.search(r'menyatakan\\s+(.{50,1000}?)\\.', text, re.IGNORECASE)\n",
        "    if match:\n",
        "        return match.group(1).strip()\n",
        "\n",
        "    return ''\n",
        "\n",
        "# Terapkan ke semua teks\n",
        "df['ringkasan_fakta'] = df['text_full'].fillna('').apply(extract_ringkasan_fakta)\n",
        "df['argumen_hukum'] = df['text_full'].fillna('').apply(extract_argumen_hukum)\n",
        "\n",
        "# Simpan ke file output final\n",
        "df.to_csv(output_csv, index=False)\n",
        "print(f'✅ Ekstraksi konten kunci selesai. Disimpan ke:\\n{output_csv}')"
      ],
      "metadata": {
        "colab": {
          "base_uri": "https://localhost:8080/"
        },
        "id": "cw-peA80_yzp",
        "outputId": "10e977ea-4d81-46d9-bbe6-964c7d66b6b9"
      },
      "execution_count": null,
      "outputs": [
        {
          "output_type": "stream",
          "name": "stdout",
          "text": [
            "✅ Ekstraksi konten kunci selesai. Disimpan ke:\n",
            "/content/drive/MyDrive/Penalaran Komputer/data/processed/cases.csv\n"
          ]
        }
      ]
    },
    {
      "cell_type": "markdown",
      "source": [
        "###Feature Engineering"
      ],
      "metadata": {
        "id": "rEKQ5UMQE6Ar"
      }
    },
    {
      "cell_type": "code",
      "source": [
        "import pandas as pd\n",
        "import re\n",
        "import os\n",
        "\n",
        "# Path input/output\n",
        "input_csv = '/content/drive/MyDrive/Penalaran Komputer/data/processed/cases.csv'\n",
        "output_csv = '/content/drive/MyDrive/Penalaran Komputer/data/processed/cases_features.csv'\n",
        "os.makedirs(os.path.dirname(output_csv), exist_ok=True)\n",
        "\n",
        "# Baca data\n",
        "df = pd.read_csv(input_csv)\n",
        "\n",
        "# Fitur 1: Panjang teks (jumlah kata)\n",
        "df['length'] = df['text_full'].fillna('').apply(lambda x: len(x.split()))\n",
        "\n",
        "# Fitur 2: Bag-of-Words Keywords (manual keyword list)\n",
        "keywords = ['wanprestasi', 'gugatan', 'penggugat', 'tergugat', 'putusan', 'perjanjian', 'pidana', 'narkotika', 'cerai']\n",
        "def extract_keywords(text):\n",
        "    text = text.lower()\n",
        "    found = [kw for kw in keywords if kw in text]\n",
        "    return ', '.join(found)\n",
        "df['bow_keywords'] = df['text_full'].fillna('').apply(extract_keywords)\n",
        "\n",
        "# Fitur 3: Estimasi QA-pairs\n",
        "def count_qa_pairs(text):\n",
        "    patterns = r'\\b(apa|siapa|mengapa|bagaimana|karena|maka|oleh karena)\\b'\n",
        "    return len(re.findall(patterns, text.lower()))\n",
        "df['qa_pairs_count'] = df['text_full'].fillna('').apply(count_qa_pairs)\n",
        "\n",
        "# Simpan ke file baru\n",
        "df.to_csv(output_csv, index=False)\n",
        "print(f'✅ Feature Engineering selesai.\\nDisimpan ke: {output_csv}')"
      ],
      "metadata": {
        "colab": {
          "base_uri": "https://localhost:8080/"
        },
        "id": "kEMuowfvGNK0",
        "outputId": "7dcd211e-144b-4960-9a88-90487b8c8718"
      },
      "execution_count": null,
      "outputs": [
        {
          "output_type": "stream",
          "name": "stdout",
          "text": [
            "✅ Feature Engineering selesai.\n",
            "Disimpan ke: /content/drive/MyDrive/Penalaran Komputer/data/processed/cases_features.csv\n"
          ]
        }
      ]
    }
  ]
}